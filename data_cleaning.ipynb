{
 "cells": [
  {
   "cell_type": "code",
   "execution_count": 1,
   "metadata": {},
   "outputs": [],
   "source": [
    "import pandas as pd\n",
    "import numpy as np\n",
    "import matplotlib.pyplot as plt\n",
    "import seaborn as sns\n",
    "from geopy.distance import geodesic"
   ]
  },
  {
   "cell_type": "code",
   "execution_count": 2,
   "metadata": {},
   "outputs": [],
   "source": [
    "data = pd.read_csv(r\"data\\delivery_data.csv\")"
   ]
  },
  {
   "cell_type": "code",
   "execution_count": 3,
   "metadata": {},
   "outputs": [],
   "source": [
    "# remove the null values\n",
    "data.dropna(inplace=True)\n"
   ]
  },
  {
   "cell_type": "code",
   "execution_count": 4,
   "metadata": {},
   "outputs": [],
   "source": [
    "#  remove duplicates\n",
    "data.drop_duplicates(inplace = True)"
   ]
  },
  {
   "cell_type": "code",
   "execution_count": 5,
   "metadata": {},
   "outputs": [],
   "source": [
    "# get distance from pick up to delivery place\n",
    "def calculate_distance(row):\n",
    "    store = (row['Store_Latitude'], row['Store_Longitude'])\n",
    "    drop = (row['Drop_Latitude'], row['Drop_Longitude'])\n",
    "    return geodesic(store, drop).kilometers\n",
    "\n",
    "# Apply the function row-wise to calculate distance\n",
    "data['Distance_km'] = data.apply(calculate_distance, axis=1)"
   ]
  },
  {
   "cell_type": "code",
   "execution_count": 6,
   "metadata": {},
   "outputs": [],
   "source": [
    "data['Order_Date']= pd.to_datetime(data['Order_Date'])\n",
    "\n",
    "# create cols for order year and month\n",
    "data['Order_Year']= data['Order_Date'].dt.year\n",
    "data['Order_Month']= data['Order_Date'].dt.month\n",
    "data['Order_Day']= data['Order_Date'].dt.day_of_year\n",
    "data['Week_day']= data['Order_Date'].dt.day_of_week\n",
    "data['Weekday_Name'] = data['Order_Date'].dt.day_name()"
   ]
  },
  {
   "cell_type": "code",
   "execution_count": 7,
   "metadata": {},
   "outputs": [],
   "source": [
    "# drop unecessary cols \n",
    "\n",
    "data.drop(columns= ['Order_ID','Store_Latitude','Store_Longitude','Drop_Latitude','Drop_Longitude','Order_Date'], inplace=True)"
   ]
  },
  {
   "cell_type": "code",
   "execution_count": 8,
   "metadata": {},
   "outputs": [],
   "source": [
    "#data.to_csv(\"data_cleaned.csv\")"
   ]
  },
  {
   "cell_type": "code",
   "execution_count": 9,
   "metadata": {},
   "outputs": [],
   "source": [
    "data['Pickup_Time'] = pd.to_datetime(data['Pickup_Time'], format='%H:%M:%S').apply(lambda x: x.replace(year=2023, month=1, day=1))\n",
    "\n",
    "data['Pickup_Time_minutes'] = data['Pickup_Time'].dt.hour * 60 + data['Pickup_Time'].dt.minute"
   ]
  },
  {
   "cell_type": "markdown",
   "metadata": {},
   "source": [
    "### Exploratory Data Analysis"
   ]
  },
  {
   "cell_type": "code",
   "execution_count": 10,
   "metadata": {},
   "outputs": [
    {
     "data": {
      "text/html": [
       "<div>\n",
       "<style scoped>\n",
       "    .dataframe tbody tr th:only-of-type {\n",
       "        vertical-align: middle;\n",
       "    }\n",
       "\n",
       "    .dataframe tbody tr th {\n",
       "        vertical-align: top;\n",
       "    }\n",
       "\n",
       "    .dataframe thead th {\n",
       "        text-align: right;\n",
       "    }\n",
       "</style>\n",
       "<table border=\"1\" class=\"dataframe\">\n",
       "  <thead>\n",
       "    <tr style=\"text-align: right;\">\n",
       "      <th></th>\n",
       "      <th>Agent_Age</th>\n",
       "      <th>Agent_Rating</th>\n",
       "      <th>Pickup_Time</th>\n",
       "      <th>Delivery_Time</th>\n",
       "      <th>Distance_km</th>\n",
       "      <th>Order_Year</th>\n",
       "      <th>Order_Month</th>\n",
       "      <th>Order_Day</th>\n",
       "      <th>Week_day</th>\n",
       "      <th>Pickup_Time_minutes</th>\n",
       "    </tr>\n",
       "  </thead>\n",
       "  <tbody>\n",
       "    <tr>\n",
       "      <th>count</th>\n",
       "      <td>43594.000000</td>\n",
       "      <td>43594.000000</td>\n",
       "      <td>43594</td>\n",
       "      <td>43594.000000</td>\n",
       "      <td>43594.000000</td>\n",
       "      <td>43594.0</td>\n",
       "      <td>43594.000000</td>\n",
       "      <td>43594.000000</td>\n",
       "      <td>43594.000000</td>\n",
       "      <td>43594.000000</td>\n",
       "    </tr>\n",
       "    <tr>\n",
       "      <th>mean</th>\n",
       "      <td>29.555719</td>\n",
       "      <td>4.635287</td>\n",
       "      <td>2023-01-01 17:37:46.282056960</td>\n",
       "      <td>124.916433</td>\n",
       "      <td>26.654420</td>\n",
       "      <td>2022.0</td>\n",
       "      <td>2.981052</td>\n",
       "      <td>72.700326</td>\n",
       "      <td>3.000092</td>\n",
       "      <td>1057.771368</td>\n",
       "    </tr>\n",
       "    <tr>\n",
       "      <th>min</th>\n",
       "      <td>20.000000</td>\n",
       "      <td>2.500000</td>\n",
       "      <td>2023-01-01 00:00:00</td>\n",
       "      <td>10.000000</td>\n",
       "      <td>1.463837</td>\n",
       "      <td>2022.0</td>\n",
       "      <td>2.000000</td>\n",
       "      <td>42.000000</td>\n",
       "      <td>0.000000</td>\n",
       "      <td>0.000000</td>\n",
       "    </tr>\n",
       "    <tr>\n",
       "      <th>25%</th>\n",
       "      <td>25.000000</td>\n",
       "      <td>4.500000</td>\n",
       "      <td>2023-01-01 14:35:00</td>\n",
       "      <td>90.000000</td>\n",
       "      <td>4.654125</td>\n",
       "      <td>2022.0</td>\n",
       "      <td>3.000000</td>\n",
       "      <td>63.000000</td>\n",
       "      <td>1.000000</td>\n",
       "      <td>875.000000</td>\n",
       "    </tr>\n",
       "    <tr>\n",
       "      <th>50%</th>\n",
       "      <td>30.000000</td>\n",
       "      <td>4.700000</td>\n",
       "      <td>2023-01-01 19:10:00</td>\n",
       "      <td>125.000000</td>\n",
       "      <td>9.204106</td>\n",
       "      <td>2022.0</td>\n",
       "      <td>3.000000</td>\n",
       "      <td>74.000000</td>\n",
       "      <td>3.000000</td>\n",
       "      <td>1150.000000</td>\n",
       "    </tr>\n",
       "    <tr>\n",
       "      <th>75%</th>\n",
       "      <td>35.000000</td>\n",
       "      <td>4.900000</td>\n",
       "      <td>2023-01-01 21:35:00</td>\n",
       "      <td>160.000000</td>\n",
       "      <td>13.660855</td>\n",
       "      <td>2022.0</td>\n",
       "      <td>3.000000</td>\n",
       "      <td>86.000000</td>\n",
       "      <td>5.000000</td>\n",
       "      <td>1295.000000</td>\n",
       "    </tr>\n",
       "    <tr>\n",
       "      <th>max</th>\n",
       "      <td>39.000000</td>\n",
       "      <td>5.000000</td>\n",
       "      <td>2023-01-01 23:55:00</td>\n",
       "      <td>270.000000</td>\n",
       "      <td>6852.617172</td>\n",
       "      <td>2022.0</td>\n",
       "      <td>4.000000</td>\n",
       "      <td>96.000000</td>\n",
       "      <td>6.000000</td>\n",
       "      <td>1435.000000</td>\n",
       "    </tr>\n",
       "    <tr>\n",
       "      <th>std</th>\n",
       "      <td>5.760689</td>\n",
       "      <td>0.313827</td>\n",
       "      <td>NaN</td>\n",
       "      <td>51.941975</td>\n",
       "      <td>298.155434</td>\n",
       "      <td>0.0</td>\n",
       "      <td>0.545886</td>\n",
       "      <td>15.463604</td>\n",
       "      <td>1.969743</td>\n",
       "      <td>321.520109</td>\n",
       "    </tr>\n",
       "  </tbody>\n",
       "</table>\n",
       "</div>"
      ],
      "text/plain": [
       "          Agent_Age  Agent_Rating                    Pickup_Time  \\\n",
       "count  43594.000000  43594.000000                          43594   \n",
       "mean      29.555719      4.635287  2023-01-01 17:37:46.282056960   \n",
       "min       20.000000      2.500000            2023-01-01 00:00:00   \n",
       "25%       25.000000      4.500000            2023-01-01 14:35:00   \n",
       "50%       30.000000      4.700000            2023-01-01 19:10:00   \n",
       "75%       35.000000      4.900000            2023-01-01 21:35:00   \n",
       "max       39.000000      5.000000            2023-01-01 23:55:00   \n",
       "std        5.760689      0.313827                            NaN   \n",
       "\n",
       "       Delivery_Time   Distance_km  Order_Year   Order_Month     Order_Day  \\\n",
       "count   43594.000000  43594.000000     43594.0  43594.000000  43594.000000   \n",
       "mean      124.916433     26.654420      2022.0      2.981052     72.700326   \n",
       "min        10.000000      1.463837      2022.0      2.000000     42.000000   \n",
       "25%        90.000000      4.654125      2022.0      3.000000     63.000000   \n",
       "50%       125.000000      9.204106      2022.0      3.000000     74.000000   \n",
       "75%       160.000000     13.660855      2022.0      3.000000     86.000000   \n",
       "max       270.000000   6852.617172      2022.0      4.000000     96.000000   \n",
       "std        51.941975    298.155434         0.0      0.545886     15.463604   \n",
       "\n",
       "           Week_day  Pickup_Time_minutes  \n",
       "count  43594.000000         43594.000000  \n",
       "mean       3.000092          1057.771368  \n",
       "min        0.000000             0.000000  \n",
       "25%        1.000000           875.000000  \n",
       "50%        3.000000          1150.000000  \n",
       "75%        5.000000          1295.000000  \n",
       "max        6.000000          1435.000000  \n",
       "std        1.969743           321.520109  "
      ]
     },
     "execution_count": 10,
     "metadata": {},
     "output_type": "execute_result"
    }
   ],
   "source": [
    "data.describe()"
   ]
  },
  {
   "cell_type": "markdown",
   "metadata": {},
   "source": [
    "### Data Preprocessing"
   ]
  },
  {
   "cell_type": "code",
   "execution_count": 11,
   "metadata": {},
   "outputs": [],
   "source": [
    "# Drop unnecessary columns\n",
    "data = data.drop(columns=['Order_Time', 'Pickup_Time', 'Weekday_Name','Order_Day',\t'Week_day'])\n"
   ]
  },
  {
   "cell_type": "code",
   "execution_count": 12,
   "metadata": {},
   "outputs": [],
   "source": [
    "# Encode categorical columns using LabelEncoder\n",
    "from sklearn.preprocessing import LabelEncoder\n",
    "\n",
    "# Initialize label encoder\n",
    "encoder = LabelEncoder()\n",
    "\n",
    "# Encode 'Weather'\n",
    "data['Weather'] = encoder.fit_transform(data['Weather'])\n",
    "\n",
    "# Encode 'Traffic'\n",
    "data['Traffic'] = encoder.fit_transform(data['Traffic'])\n",
    "\n",
    "# Encode 'Vehicle'\n",
    "data['Vehicle'] = encoder.fit_transform(data['Vehicle'])\n",
    "\n",
    "# Encode 'Area'\n",
    "data['Area'] = encoder.fit_transform(data['Area'])\n",
    "\n",
    "data['Category']=  encoder.fit_transform(data['Category'])\n",
    "\n"
   ]
  },
  {
   "cell_type": "code",
   "execution_count": 13,
   "metadata": {},
   "outputs": [],
   "source": [
    "# Scale data\n",
    "\n",
    "from sklearn.preprocessing import StandardScaler\n",
    "\n",
    "# Initialize the scaler\n",
    "scaler = StandardScaler()\n",
    "\n",
    "# List the columns you want to scale\n",
    "columns_to_scale = ['Agent_Age', 'Agent_Rating', 'Distance_km','Pickup_Time_minutes']\n",
    "\n",
    "# Fit and transform the data\n",
    "data[columns_to_scale] = scaler.fit_transform(data[columns_to_scale])\n"
   ]
  },
  {
   "cell_type": "code",
   "execution_count": 14,
   "metadata": {},
   "outputs": [],
   "source": [
    "# save scaled data\n",
    "\n",
    "#data.to_csv(\"scaled_data.csv\")"
   ]
  }
 ],
 "metadata": {
  "kernelspec": {
   "display_name": "Python 3",
   "language": "python",
   "name": "python3"
  },
  "language_info": {
   "codemirror_mode": {
    "name": "ipython",
    "version": 3
   },
   "file_extension": ".py",
   "mimetype": "text/x-python",
   "name": "python",
   "nbconvert_exporter": "python",
   "pygments_lexer": "ipython3",
   "version": "3.13.2"
  }
 },
 "nbformat": 4,
 "nbformat_minor": 2
}
